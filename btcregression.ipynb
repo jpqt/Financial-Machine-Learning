{
 "cells": [
  {
   "cell_type": "code",
   "execution_count": 15,
   "id": "a63110a1-ffb2-4e92-9a24-9b8bc9320281",
   "metadata": {},
   "outputs": [],
   "source": [
    "import pandas as pd\n",
    "import numpy as np\n",
    "from pathlib import Path\n",
    "import holoviews as hv\n",
    "import hvplot.pandas\n",
    "import datetime as dt\n",
    "%matplotlib inline\n",
    "import warnings\n",
    "warnings.filterwarnings(\"ignore\")"
   ]
  },
  {
   "cell_type": "code",
   "execution_count": 16,
   "id": "c7a5ca81-d4f1-4c7f-bad1-b68fc656cc1c",
   "metadata": {},
   "outputs": [
    {
     "data": {
      "text/html": [
       "<div>\n",
       "<style scoped>\n",
       "    .dataframe tbody tr th:only-of-type {\n",
       "        vertical-align: middle;\n",
       "    }\n",
       "\n",
       "    .dataframe tbody tr th {\n",
       "        vertical-align: top;\n",
       "    }\n",
       "\n",
       "    .dataframe thead th {\n",
       "        text-align: right;\n",
       "    }\n",
       "</style>\n",
       "<table border=\"1\" class=\"dataframe\">\n",
       "  <thead>\n",
       "    <tr style=\"text-align: right;\">\n",
       "      <th></th>\n",
       "      <th>symbol</th>\n",
       "      <th>open</th>\n",
       "      <th>high</th>\n",
       "      <th>low</th>\n",
       "      <th>close</th>\n",
       "      <th>Volume BTC</th>\n",
       "      <th>Volume USD</th>\n",
       "    </tr>\n",
       "    <tr>\n",
       "      <th>date</th>\n",
       "      <th></th>\n",
       "      <th></th>\n",
       "      <th></th>\n",
       "      <th></th>\n",
       "      <th></th>\n",
       "      <th></th>\n",
       "      <th></th>\n",
       "    </tr>\n",
       "  </thead>\n",
       "  <tbody>\n",
       "    <tr>\n",
       "      <th>2022-10-16 00:00:00</th>\n",
       "      <td>BTC/USD</td>\n",
       "      <td>19072.0</td>\n",
       "      <td>19110.0</td>\n",
       "      <td>19067.0</td>\n",
       "      <td>19110.0</td>\n",
       "      <td>2.232561</td>\n",
       "      <td>42664.24415</td>\n",
       "    </tr>\n",
       "    <tr>\n",
       "      <th>2022-10-15 23:00:00</th>\n",
       "      <td>BTC/USD</td>\n",
       "      <td>19062.0</td>\n",
       "      <td>19129.0</td>\n",
       "      <td>18990.0</td>\n",
       "      <td>19066.0</td>\n",
       "      <td>32.517872</td>\n",
       "      <td>619985.74050</td>\n",
       "    </tr>\n",
       "    <tr>\n",
       "      <th>2022-10-15 22:00:00</th>\n",
       "      <td>BTC/USD</td>\n",
       "      <td>19070.0</td>\n",
       "      <td>19091.0</td>\n",
       "      <td>19049.0</td>\n",
       "      <td>19060.0</td>\n",
       "      <td>8.105804</td>\n",
       "      <td>154496.63360</td>\n",
       "    </tr>\n",
       "    <tr>\n",
       "      <th>2022-10-15 21:00:00</th>\n",
       "      <td>BTC/USD</td>\n",
       "      <td>19097.0</td>\n",
       "      <td>19098.0</td>\n",
       "      <td>19061.0</td>\n",
       "      <td>19070.0</td>\n",
       "      <td>8.419527</td>\n",
       "      <td>160560.38080</td>\n",
       "    </tr>\n",
       "    <tr>\n",
       "      <th>2022-10-15 20:00:00</th>\n",
       "      <td>BTC/USD</td>\n",
       "      <td>19103.0</td>\n",
       "      <td>19111.0</td>\n",
       "      <td>19087.0</td>\n",
       "      <td>19097.0</td>\n",
       "      <td>7.027730</td>\n",
       "      <td>134208.55260</td>\n",
       "    </tr>\n",
       "  </tbody>\n",
       "</table>\n",
       "</div>"
      ],
      "text/plain": [
       "                      symbol     open     high      low    close  Volume BTC  \\\n",
       "date                                                                           \n",
       "2022-10-16 00:00:00  BTC/USD  19072.0  19110.0  19067.0  19110.0    2.232561   \n",
       "2022-10-15 23:00:00  BTC/USD  19062.0  19129.0  18990.0  19066.0   32.517872   \n",
       "2022-10-15 22:00:00  BTC/USD  19070.0  19091.0  19049.0  19060.0    8.105804   \n",
       "2022-10-15 21:00:00  BTC/USD  19097.0  19098.0  19061.0  19070.0    8.419527   \n",
       "2022-10-15 20:00:00  BTC/USD  19103.0  19111.0  19087.0  19097.0    7.027730   \n",
       "\n",
       "                       Volume USD  \n",
       "date                               \n",
       "2022-10-16 00:00:00   42664.24415  \n",
       "2022-10-15 23:00:00  619985.74050  \n",
       "2022-10-15 22:00:00  154496.63360  \n",
       "2022-10-15 21:00:00  160560.38080  \n",
       "2022-10-15 20:00:00  134208.55260  "
      ]
     },
     "metadata": {},
     "output_type": "display_data"
    },
    {
     "data": {
      "text/html": [
       "<div>\n",
       "<style scoped>\n",
       "    .dataframe tbody tr th:only-of-type {\n",
       "        vertical-align: middle;\n",
       "    }\n",
       "\n",
       "    .dataframe tbody tr th {\n",
       "        vertical-align: top;\n",
       "    }\n",
       "\n",
       "    .dataframe thead th {\n",
       "        text-align: right;\n",
       "    }\n",
       "</style>\n",
       "<table border=\"1\" class=\"dataframe\">\n",
       "  <thead>\n",
       "    <tr style=\"text-align: right;\">\n",
       "      <th></th>\n",
       "      <th>symbol</th>\n",
       "      <th>open</th>\n",
       "      <th>high</th>\n",
       "      <th>low</th>\n",
       "      <th>close</th>\n",
       "      <th>Volume BTC</th>\n",
       "      <th>Volume USD</th>\n",
       "    </tr>\n",
       "    <tr>\n",
       "      <th>date</th>\n",
       "      <th></th>\n",
       "      <th></th>\n",
       "      <th></th>\n",
       "      <th></th>\n",
       "      <th></th>\n",
       "      <th></th>\n",
       "      <th></th>\n",
       "    </tr>\n",
       "  </thead>\n",
       "  <tbody>\n",
       "    <tr>\n",
       "      <th>2018-05-15 10:00:00</th>\n",
       "      <td>BTC/USD</td>\n",
       "      <td>8708.32</td>\n",
       "      <td>8865.00</td>\n",
       "      <td>8695.11</td>\n",
       "      <td>8795.90</td>\n",
       "      <td>11101273.74</td>\n",
       "      <td>1260.69</td>\n",
       "    </tr>\n",
       "    <tr>\n",
       "      <th>2018-05-15 09:00:00</th>\n",
       "      <td>BTC/USD</td>\n",
       "      <td>8728.49</td>\n",
       "      <td>8754.40</td>\n",
       "      <td>8701.35</td>\n",
       "      <td>8708.32</td>\n",
       "      <td>1593991.98</td>\n",
       "      <td>182.62</td>\n",
       "    </tr>\n",
       "    <tr>\n",
       "      <th>2018-05-15 08:00:00</th>\n",
       "      <td>BTC/USD</td>\n",
       "      <td>8739.00</td>\n",
       "      <td>8750.27</td>\n",
       "      <td>8660.53</td>\n",
       "      <td>8728.49</td>\n",
       "      <td>7986062.84</td>\n",
       "      <td>917.79</td>\n",
       "    </tr>\n",
       "    <tr>\n",
       "      <th>2018-05-15 07:00:00</th>\n",
       "      <td>BTC/USD</td>\n",
       "      <td>8740.99</td>\n",
       "      <td>8766.00</td>\n",
       "      <td>8721.11</td>\n",
       "      <td>8739.00</td>\n",
       "      <td>2390398.89</td>\n",
       "      <td>273.58</td>\n",
       "    </tr>\n",
       "    <tr>\n",
       "      <th>2018-05-15 06:00:00</th>\n",
       "      <td>BTC/USD</td>\n",
       "      <td>8733.86</td>\n",
       "      <td>8796.68</td>\n",
       "      <td>8707.28</td>\n",
       "      <td>8740.99</td>\n",
       "      <td>4906603.14</td>\n",
       "      <td>559.93</td>\n",
       "    </tr>\n",
       "  </tbody>\n",
       "</table>\n",
       "</div>"
      ],
      "text/plain": [
       "                      symbol     open     high      low    close   Volume BTC  \\\n",
       "date                                                                            \n",
       "2018-05-15 10:00:00  BTC/USD  8708.32  8865.00  8695.11  8795.90  11101273.74   \n",
       "2018-05-15 09:00:00  BTC/USD  8728.49  8754.40  8701.35  8708.32   1593991.98   \n",
       "2018-05-15 08:00:00  BTC/USD  8739.00  8750.27  8660.53  8728.49   7986062.84   \n",
       "2018-05-15 07:00:00  BTC/USD  8740.99  8766.00  8721.11  8739.00   2390398.89   \n",
       "2018-05-15 06:00:00  BTC/USD  8733.86  8796.68  8707.28  8740.99   4906603.14   \n",
       "\n",
       "                     Volume USD  \n",
       "date                             \n",
       "2018-05-15 10:00:00     1260.69  \n",
       "2018-05-15 09:00:00      182.62  \n",
       "2018-05-15 08:00:00      917.79  \n",
       "2018-05-15 07:00:00      273.58  \n",
       "2018-05-15 06:00:00      559.93  "
      ]
     },
     "metadata": {},
     "output_type": "display_data"
    }
   ],
   "source": [
    "btc_df = pd.read_csv(\n",
    "    Path(\"./Resources/history-btc.csv\"),\n",
    "    index_col=\"date\",\n",
    "    infer_datetime_format=True,\n",
    "    parse_dates = True\n",
    "    \n",
    ")\n",
    "display(btc_df.head())\n",
    "display(btc_df.tail())"
   ]
  },
  {
   "cell_type": "code",
   "execution_count": 41,
   "id": "9869dc08-d7df-4269-be6e-18921f774063",
   "metadata": {},
   "outputs": [
    {
     "data": {
      "text/html": [
       "<div>\n",
       "<style scoped>\n",
       "    .dataframe tbody tr th:only-of-type {\n",
       "        vertical-align: middle;\n",
       "    }\n",
       "\n",
       "    .dataframe tbody tr th {\n",
       "        vertical-align: top;\n",
       "    }\n",
       "\n",
       "    .dataframe thead th {\n",
       "        text-align: right;\n",
       "    }\n",
       "</style>\n",
       "<table border=\"1\" class=\"dataframe\">\n",
       "  <thead>\n",
       "    <tr style=\"text-align: right;\">\n",
       "      <th></th>\n",
       "      <th>close</th>\n",
       "    </tr>\n",
       "    <tr>\n",
       "      <th>date</th>\n",
       "      <th></th>\n",
       "    </tr>\n",
       "  </thead>\n",
       "  <tbody>\n",
       "    <tr>\n",
       "      <th>2022-10-16 00:00:00</th>\n",
       "      <td>19110.00</td>\n",
       "    </tr>\n",
       "    <tr>\n",
       "      <th>2022-10-15 23:00:00</th>\n",
       "      <td>19066.00</td>\n",
       "    </tr>\n",
       "    <tr>\n",
       "      <th>2022-10-15 22:00:00</th>\n",
       "      <td>19060.00</td>\n",
       "    </tr>\n",
       "    <tr>\n",
       "      <th>2022-10-15 21:00:00</th>\n",
       "      <td>19070.00</td>\n",
       "    </tr>\n",
       "    <tr>\n",
       "      <th>2022-10-15 20:00:00</th>\n",
       "      <td>19097.00</td>\n",
       "    </tr>\n",
       "    <tr>\n",
       "      <th>...</th>\n",
       "      <td>...</td>\n",
       "    </tr>\n",
       "    <tr>\n",
       "      <th>2018-05-15 10:00:00</th>\n",
       "      <td>8795.90</td>\n",
       "    </tr>\n",
       "    <tr>\n",
       "      <th>2018-05-15 09:00:00</th>\n",
       "      <td>8708.32</td>\n",
       "    </tr>\n",
       "    <tr>\n",
       "      <th>2018-05-15 08:00:00</th>\n",
       "      <td>8728.49</td>\n",
       "    </tr>\n",
       "    <tr>\n",
       "      <th>2018-05-15 07:00:00</th>\n",
       "      <td>8739.00</td>\n",
       "    </tr>\n",
       "    <tr>\n",
       "      <th>2018-05-15 06:00:00</th>\n",
       "      <td>8740.99</td>\n",
       "    </tr>\n",
       "  </tbody>\n",
       "</table>\n",
       "<p>38755 rows × 1 columns</p>\n",
       "</div>"
      ],
      "text/plain": [
       "                        close\n",
       "date                         \n",
       "2022-10-16 00:00:00  19110.00\n",
       "2022-10-15 23:00:00  19066.00\n",
       "2022-10-15 22:00:00  19060.00\n",
       "2022-10-15 21:00:00  19070.00\n",
       "2022-10-15 20:00:00  19097.00\n",
       "...                       ...\n",
       "2018-05-15 10:00:00   8795.90\n",
       "2018-05-15 09:00:00   8708.32\n",
       "2018-05-15 08:00:00   8728.49\n",
       "2018-05-15 07:00:00   8739.00\n",
       "2018-05-15 06:00:00   8740.99\n",
       "\n",
       "[38755 rows x 1 columns]"
      ]
     },
     "execution_count": 41,
     "metadata": {},
     "output_type": "execute_result"
    }
   ],
   "source": [
    "btc_df = btc_df.loc[:,[\"close\"]]\n",
    "btc_df"
   ]
  },
  {
   "cell_type": "code",
   "execution_count": 42,
   "id": "e01d2d67-83ae-45bf-bfa8-93b07f86e2d4",
   "metadata": {},
   "outputs": [],
   "source": [
    "# btc_m_close = btc_df.drop(btc_df.columns[[0,1,2,3,5,6]],axis=1)\n",
    "# btc_m_close"
   ]
  },
  {
   "cell_type": "code",
   "execution_count": 43,
   "id": "d6a47b58-975f-470a-b736-d1dadcadb916",
   "metadata": {},
   "outputs": [
    {
     "data": {
      "text/html": [
       "<div>\n",
       "<style scoped>\n",
       "    .dataframe tbody tr th:only-of-type {\n",
       "        vertical-align: middle;\n",
       "    }\n",
       "\n",
       "    .dataframe tbody tr th {\n",
       "        vertical-align: top;\n",
       "    }\n",
       "\n",
       "    .dataframe thead th {\n",
       "        text-align: right;\n",
       "    }\n",
       "</style>\n",
       "<table border=\"1\" class=\"dataframe\">\n",
       "  <thead>\n",
       "    <tr style=\"text-align: right;\">\n",
       "      <th></th>\n",
       "      <th>close</th>\n",
       "      <th>Prediction</th>\n",
       "    </tr>\n",
       "    <tr>\n",
       "      <th>date</th>\n",
       "      <th></th>\n",
       "      <th></th>\n",
       "    </tr>\n",
       "  </thead>\n",
       "  <tbody>\n",
       "    <tr>\n",
       "      <th>2022-10-16 00:00:00</th>\n",
       "      <td>19110.0</td>\n",
       "      <td>19204.0</td>\n",
       "    </tr>\n",
       "    <tr>\n",
       "      <th>2022-10-15 23:00:00</th>\n",
       "      <td>19066.0</td>\n",
       "      <td>19363.0</td>\n",
       "    </tr>\n",
       "    <tr>\n",
       "      <th>2022-10-15 22:00:00</th>\n",
       "      <td>19060.0</td>\n",
       "      <td>19305.0</td>\n",
       "    </tr>\n",
       "    <tr>\n",
       "      <th>2022-10-15 21:00:00</th>\n",
       "      <td>19070.0</td>\n",
       "      <td>19356.0</td>\n",
       "    </tr>\n",
       "    <tr>\n",
       "      <th>2022-10-15 20:00:00</th>\n",
       "      <td>19097.0</td>\n",
       "      <td>19463.0</td>\n",
       "    </tr>\n",
       "  </tbody>\n",
       "</table>\n",
       "</div>"
      ],
      "text/plain": [
       "                       close  Prediction\n",
       "date                                    \n",
       "2022-10-16 00:00:00  19110.0     19204.0\n",
       "2022-10-15 23:00:00  19066.0     19363.0\n",
       "2022-10-15 22:00:00  19060.0     19305.0\n",
       "2022-10-15 21:00:00  19070.0     19356.0\n",
       "2022-10-15 20:00:00  19097.0     19463.0"
      ]
     },
     "execution_count": 43,
     "metadata": {},
     "output_type": "execute_result"
    }
   ],
   "source": [
    "\n",
    "prediction_days = 30 #n = prediction_days = 30\n",
    "#create column shipted 'n' units up\n",
    "btc_df['Prediction'] = btc_df[['close']].shift(-prediction_days)\n",
    "\n",
    "btc_df.head()"
   ]
  },
  {
   "cell_type": "code",
   "execution_count": 44,
   "id": "e1808ec7-7fed-4d2b-9422-57d08791e90a",
   "metadata": {},
   "outputs": [
    {
     "data": {
      "text/html": [
       "<div>\n",
       "<style scoped>\n",
       "    .dataframe tbody tr th:only-of-type {\n",
       "        vertical-align: middle;\n",
       "    }\n",
       "\n",
       "    .dataframe tbody tr th {\n",
       "        vertical-align: top;\n",
       "    }\n",
       "\n",
       "    .dataframe thead th {\n",
       "        text-align: right;\n",
       "    }\n",
       "</style>\n",
       "<table border=\"1\" class=\"dataframe\">\n",
       "  <thead>\n",
       "    <tr style=\"text-align: right;\">\n",
       "      <th></th>\n",
       "      <th>close</th>\n",
       "      <th>Prediction</th>\n",
       "    </tr>\n",
       "    <tr>\n",
       "      <th>date</th>\n",
       "      <th></th>\n",
       "      <th></th>\n",
       "    </tr>\n",
       "  </thead>\n",
       "  <tbody>\n",
       "    <tr>\n",
       "      <th>2018-05-15 10:00:00</th>\n",
       "      <td>8795.90</td>\n",
       "      <td>NaN</td>\n",
       "    </tr>\n",
       "    <tr>\n",
       "      <th>2018-05-15 09:00:00</th>\n",
       "      <td>8708.32</td>\n",
       "      <td>NaN</td>\n",
       "    </tr>\n",
       "    <tr>\n",
       "      <th>2018-05-15 08:00:00</th>\n",
       "      <td>8728.49</td>\n",
       "      <td>NaN</td>\n",
       "    </tr>\n",
       "    <tr>\n",
       "      <th>2018-05-15 07:00:00</th>\n",
       "      <td>8739.00</td>\n",
       "      <td>NaN</td>\n",
       "    </tr>\n",
       "    <tr>\n",
       "      <th>2018-05-15 06:00:00</th>\n",
       "      <td>8740.99</td>\n",
       "      <td>NaN</td>\n",
       "    </tr>\n",
       "  </tbody>\n",
       "</table>\n",
       "</div>"
      ],
      "text/plain": [
       "                       close  Prediction\n",
       "date                                    \n",
       "2018-05-15 10:00:00  8795.90         NaN\n",
       "2018-05-15 09:00:00  8708.32         NaN\n",
       "2018-05-15 08:00:00  8728.49         NaN\n",
       "2018-05-15 07:00:00  8739.00         NaN\n",
       "2018-05-15 06:00:00  8740.99         NaN"
      ]
     },
     "execution_count": 44,
     "metadata": {},
     "output_type": "execute_result"
    }
   ],
   "source": [
    "#(for every close price day the prediction is ''.\n",
    "\n",
    "#show last 7 rows ot new df\n",
    "\n",
    "btc_df.tail()"
   ]
  },
  {
   "cell_type": "code",
   "execution_count": 45,
   "id": "c731d605-7134-428e-8ac9-e4f365ad8263",
   "metadata": {},
   "outputs": [
    {
     "name": "stdout",
     "output_type": "stream",
     "text": [
      "[[19110.  ]\n",
      " [19066.  ]\n",
      " [19060.  ]\n",
      " ...\n",
      " [ 8225.  ]\n",
      " [ 8179.99]\n",
      " [ 8365.08]]\n"
     ]
    }
   ],
   "source": [
    "#Create independent dataset\n",
    "#Convert the df to numpy and drop prediction column\n",
    "X = np.array(btc_df.drop(['Prediction'],1))\n",
    "#Remove the last 'n' rows where 'n' is the prediction days\n",
    "X = X[:len(btc_df)-prediction_days]\n",
    "\n",
    "print(X)"
   ]
  },
  {
   "cell_type": "code",
   "execution_count": 46,
   "id": "33d4cbb0-1aa0-4936-a8fa-0ff14edb345f",
   "metadata": {},
   "outputs": [
    {
     "name": "stdout",
     "output_type": "stream",
     "text": [
      "[19204.   19363.   19305.   ...  8728.49  8739.    8740.99]\n"
     ]
    }
   ],
   "source": [
    "#Create dependent data set by converting dataframe to numpy array\n",
    "y = np.array(btc_df['Prediction'])\n",
    "# Get all values but the last 'n' rows\n",
    "y = y[:-prediction_days]\n",
    "\n",
    "print(y)"
   ]
  },
  {
   "cell_type": "code",
   "execution_count": 47,
   "id": "b314599d-288a-401b-a371-c884bd06887f",
   "metadata": {},
   "outputs": [],
   "source": [
    "#Split data into 80% training and 20% test\n",
    "from sklearn.model_selection import train_test_split\n",
    "X_train, X_test, y_train, y_test = train_test_split(X,y, test_size= 0.2)"
   ]
  },
  {
   "cell_type": "code",
   "execution_count": 48,
   "id": "9bba195a-0832-4a0d-becc-5efc3962bceb",
   "metadata": {},
   "outputs": [
    {
     "name": "stdout",
     "output_type": "stream",
     "text": [
      "[[8373.  ]\n",
      " [8371.13]\n",
      " [8243.45]\n",
      " [8207.48]\n",
      " [8232.99]\n",
      " [8238.8 ]\n",
      " [8220.4 ]\n",
      " [8229.38]\n",
      " [8164.79]\n",
      " [8133.43]\n",
      " [8326.28]\n",
      " [8455.92]\n",
      " [8474.99]\n",
      " [8460.  ]\n",
      " [8492.28]\n",
      " [8512.1 ]\n",
      " [8555.6 ]\n",
      " [8526.65]\n",
      " [8546.34]\n",
      " [8535.23]\n",
      " [8520.3 ]\n",
      " [8517.77]\n",
      " [8759.23]\n",
      " [8760.  ]\n",
      " [8760.  ]\n",
      " [8795.9 ]\n",
      " [8708.32]\n",
      " [8728.49]\n",
      " [8739.  ]\n",
      " [8740.99]]\n"
     ]
    }
   ],
   "source": [
    "#set the prediction days array equal to last 30 rows from original data\n",
    "prediction_array = np.array(btc_df.drop(['Prediction'],1))[-prediction_days:]\n",
    "print(prediction_array)"
   ]
  },
  {
   "cell_type": "code",
   "execution_count": 49,
   "id": "a46cc8a3-5c7a-42e4-a464-803f30b785e5",
   "metadata": {},
   "outputs": [
    {
     "data": {
      "text/plain": [
       "SVR(C=1000.0, gamma=1e-05)"
      ]
     },
     "execution_count": 49,
     "metadata": {},
     "output_type": "execute_result"
    }
   ],
   "source": [
    "#use svm to train model to fit into data\n",
    "from sklearn.svm import SVR\n",
    "\n",
    "#create and train the svm (regression) using radial basis function\n",
    "svr_rbf = SVR(kernel='rbf',C=1e3,gamma=0.00001)\n",
    "svr_rbf.fit(X_train,y_train)"
   ]
  },
  {
   "cell_type": "code",
   "execution_count": 50,
   "id": "496ac755-1c3e-4541-9a15-4af3687b46cc",
   "metadata": {},
   "outputs": [
    {
     "name": "stdout",
     "output_type": "stream",
     "text": [
      "svr_rbf Accuracy:  0.993524683786189\n"
     ]
    }
   ],
   "source": [
    "#test the model\n",
    "svr_rbf_trust = svr_rbf.score(X_test, y_test)\n",
    "print('svr_rbf Accuracy: ', svr_rbf_trust)"
   ]
  },
  {
   "cell_type": "code",
   "execution_count": 53,
   "id": "ede9ca62-563b-40ea-a5ff-8f9d85f8d9cc",
   "metadata": {},
   "outputs": [
    {
     "name": "stdout",
     "output_type": "stream",
     "text": [
      "[39087.02032209 20673.54896728 43623.07440588 ... 56879.03261194\n",
      " 46423.57532567  8416.54482057]\n",
      "\n"
     ]
    }
   ],
   "source": [
    "#predicteed values of btc\n",
    "svm_predictions = svr_rbf.predict(X_test)\n",
    "print(svm_predictions)\n",
    "print()\n"
   ]
  },
  {
   "cell_type": "code",
   "execution_count": 54,
   "id": "f3515c7e-4e38-40d3-bb19-cfcb0d6c8f35",
   "metadata": {},
   "outputs": [
    {
     "name": "stdout",
     "output_type": "stream",
     "text": [
      "[41057.48 21788.83 37992.53 ... 52800.75 37917.46  8641.26]\n"
     ]
    }
   ],
   "source": [
    "#print actual values\n",
    "print(y_test)"
   ]
  },
  {
   "cell_type": "code",
   "execution_count": 57,
   "id": "53212764-2f3b-4667-92b1-b4bc386d090e",
   "metadata": {},
   "outputs": [
    {
     "name": "stdout",
     "output_type": "stream",
     "text": [
      "[8391.90637497 8390.22892634 8247.80434481 8204.9630169  8235.08986078\n",
      " 8242.13524563 8220.02589903 8230.73878841 8159.43794871 8131.25178843\n",
      " 8345.84184084 8458.36458869 8473.90500591 8461.6086759  8489.08478646\n",
      " 8508.20870035 8557.81147908 8523.60604377 8546.36708067 8533.25344417\n",
      " 8516.73836275 8514.06625008 8780.95921246 8781.23451668 8781.23451668\n",
      " 8790.01996466 8750.95809241 8765.81095798 8771.95962545 8773.00551171]\n"
     ]
    }
   ],
   "source": [
    "#model pediction for next 'n=30' days\n",
    "svm_predictions = svr_rbf.predict(prediction_array)\n",
    "print(svm_predictions)"
   ]
  },
  {
   "cell_type": "code",
   "execution_count": 58,
   "id": "d5f76141-9a2f-412b-9a04-2fce27f2b166",
   "metadata": {},
   "outputs": [
    {
     "name": "stdout",
     "output_type": "stream",
     "text": [
      "                       close  Prediction\n",
      "date                                    \n",
      "2018-05-16 11:00:00  8373.00         NaN\n",
      "2018-05-16 10:00:00  8371.13         NaN\n",
      "2018-05-16 09:00:00  8243.45         NaN\n",
      "2018-05-16 08:00:00  8207.48         NaN\n",
      "2018-05-16 07:00:00  8232.99         NaN\n",
      "2018-05-16 06:00:00  8238.80         NaN\n",
      "2018-05-16 05:00:00  8220.40         NaN\n",
      "2018-05-16 04:00:00  8229.38         NaN\n",
      "2018-05-16 03:00:00  8164.79         NaN\n",
      "2018-05-16 02:00:00  8133.43         NaN\n",
      "2018-05-16 01:00:00  8326.28         NaN\n",
      "2018-05-16 00:00:00  8455.92         NaN\n",
      "2018-05-15 23:00:00  8474.99         NaN\n",
      "2018-05-15 22:00:00  8460.00         NaN\n",
      "2018-05-15 21:00:00  8492.28         NaN\n",
      "2018-05-15 20:00:00  8512.10         NaN\n",
      "2018-05-15 19:00:00  8555.60         NaN\n",
      "2018-05-15 18:00:00  8526.65         NaN\n",
      "2018-05-15 17:00:00  8546.34         NaN\n",
      "2018-05-15 16:00:00  8535.23         NaN\n",
      "2018-05-15 15:00:00  8520.30         NaN\n",
      "2018-05-15 14:00:00  8517.77         NaN\n",
      "2018-05-15 13:00:00  8759.23         NaN\n",
      "2018-05-15 12:00:00  8760.00         NaN\n",
      "2018-05-15 11:00:00  8760.00         NaN\n",
      "2018-05-15 10:00:00  8795.90         NaN\n",
      "2018-05-15 09:00:00  8708.32         NaN\n",
      "2018-05-15 08:00:00  8728.49         NaN\n",
      "2018-05-15 07:00:00  8739.00         NaN\n",
      "2018-05-15 06:00:00  8740.99         NaN\n"
     ]
    }
   ],
   "source": [
    "#actual price for Bitcoin in last 30 days\n",
    "print(btc_df.tail(prediction_days))"
   ]
  },
  {
   "cell_type": "code",
   "execution_count": null,
   "id": "41841d42-8a20-4fa5-9d4d-9c0999dbe023",
   "metadata": {},
   "outputs": [],
   "source": []
  }
 ],
 "metadata": {
  "kernelspec": {
   "display_name": "Python 3 (ipykernel)",
   "language": "python",
   "name": "python3"
  },
  "language_info": {
   "codemirror_mode": {
    "name": "ipython",
    "version": 3
   },
   "file_extension": ".py",
   "mimetype": "text/x-python",
   "name": "python",
   "nbconvert_exporter": "python",
   "pygments_lexer": "ipython3",
   "version": "3.7.13"
  }
 },
 "nbformat": 4,
 "nbformat_minor": 5
}
