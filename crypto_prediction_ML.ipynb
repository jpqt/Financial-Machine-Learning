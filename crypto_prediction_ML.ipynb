{
 "cells": [
  {
   "cell_type": "code",
   "execution_count": 21,
   "id": "860381b1-956d-4a94-ad53-10a33c945717",
   "metadata": {},
   "outputs": [],
   "source": [
    "import numpy as np\n",
    "import matplotlib.pyplot as plt\n",
    "import pandas as pd\n",
    "import pandas_datareader as web\n",
    "import datetime as dt\n",
    "from sklearn.preprocessing import MinMaxScaler\n",
    "from tensorflow.keras.layers import Dense, Dropout, LSTM\n",
    "from tensorflow.keras.models import Sequential"
   ]
  },
  {
   "cell_type": "code",
   "execution_count": 23,
   "id": "9ac60853-640b-498b-9df6-f2b1fa0b299f",
   "metadata": {},
   "outputs": [
    {
     "data": {
      "text/html": [
       "<div>\n",
       "<style scoped>\n",
       "    .dataframe tbody tr th:only-of-type {\n",
       "        vertical-align: middle;\n",
       "    }\n",
       "\n",
       "    .dataframe tbody tr th {\n",
       "        vertical-align: top;\n",
       "    }\n",
       "\n",
       "    .dataframe thead th {\n",
       "        text-align: right;\n",
       "    }\n",
       "</style>\n",
       "<table border=\"1\" class=\"dataframe\">\n",
       "  <thead>\n",
       "    <tr style=\"text-align: right;\">\n",
       "      <th></th>\n",
       "      <th>High</th>\n",
       "      <th>Low</th>\n",
       "      <th>Open</th>\n",
       "      <th>Close</th>\n",
       "      <th>Volume</th>\n",
       "      <th>Adj Close</th>\n",
       "    </tr>\n",
       "    <tr>\n",
       "      <th>Date</th>\n",
       "      <th></th>\n",
       "      <th></th>\n",
       "      <th></th>\n",
       "      <th></th>\n",
       "      <th></th>\n",
       "      <th></th>\n",
       "    </tr>\n",
       "  </thead>\n",
       "  <tbody>\n",
       "    <tr>\n",
       "      <th>2019-01-01</th>\n",
       "      <td>3850.913818</td>\n",
       "      <td>3707.231201</td>\n",
       "      <td>3746.713379</td>\n",
       "      <td>3843.520020</td>\n",
       "      <td>4324200990</td>\n",
       "      <td>3843.520020</td>\n",
       "    </tr>\n",
       "    <tr>\n",
       "      <th>2019-01-02</th>\n",
       "      <td>3947.981201</td>\n",
       "      <td>3817.409424</td>\n",
       "      <td>3849.216309</td>\n",
       "      <td>3943.409424</td>\n",
       "      <td>5244856836</td>\n",
       "      <td>3943.409424</td>\n",
       "    </tr>\n",
       "    <tr>\n",
       "      <th>2019-01-03</th>\n",
       "      <td>3935.685059</td>\n",
       "      <td>3826.222900</td>\n",
       "      <td>3931.048584</td>\n",
       "      <td>3836.741211</td>\n",
       "      <td>4530215219</td>\n",
       "      <td>3836.741211</td>\n",
       "    </tr>\n",
       "    <tr>\n",
       "      <th>2019-01-04</th>\n",
       "      <td>3865.934570</td>\n",
       "      <td>3783.853760</td>\n",
       "      <td>3832.040039</td>\n",
       "      <td>3857.717529</td>\n",
       "      <td>4847965467</td>\n",
       "      <td>3857.717529</td>\n",
       "    </tr>\n",
       "    <tr>\n",
       "      <th>2019-01-05</th>\n",
       "      <td>3904.903076</td>\n",
       "      <td>3836.900146</td>\n",
       "      <td>3851.973877</td>\n",
       "      <td>3845.194580</td>\n",
       "      <td>5137609824</td>\n",
       "      <td>3845.194580</td>\n",
       "    </tr>\n",
       "  </tbody>\n",
       "</table>\n",
       "</div>"
      ],
      "text/plain": [
       "                   High          Low         Open        Close      Volume  \\\n",
       "Date                                                                         \n",
       "2019-01-01  3850.913818  3707.231201  3746.713379  3843.520020  4324200990   \n",
       "2019-01-02  3947.981201  3817.409424  3849.216309  3943.409424  5244856836   \n",
       "2019-01-03  3935.685059  3826.222900  3931.048584  3836.741211  4530215219   \n",
       "2019-01-04  3865.934570  3783.853760  3832.040039  3857.717529  4847965467   \n",
       "2019-01-05  3904.903076  3836.900146  3851.973877  3845.194580  5137609824   \n",
       "\n",
       "              Adj Close  \n",
       "Date                     \n",
       "2019-01-01  3843.520020  \n",
       "2019-01-02  3943.409424  \n",
       "2019-01-03  3836.741211  \n",
       "2019-01-04  3857.717529  \n",
       "2019-01-05  3845.194580  "
      ]
     },
     "execution_count": 23,
     "metadata": {},
     "output_type": "execute_result"
    }
   ],
   "source": [
    "#specify which crypto we are predicting and set the currency to compare crypto to \n",
    "cryto = 'BTC'\n",
    "currency= 'USD'\n",
    "\n",
    "#specify timeframe for training data via dt.datetime\n",
    "start = dt.datetime(2019,1,1) \n",
    "end= dt.datetime(2021,1,1) \n",
    "\n",
    "#obtain data via DataReader, specify use of yahoo finance API \n",
    "data= web.DataReader(f'{cryto}-{currency}', 'yahoo', start, end)\n",
    "data.tail()\n",
    "data.head()"
   ]
  },
  {
   "cell_type": "code",
   "execution_count": 4,
   "id": "285fc00c-4318-4de5-8c59-122b91ac7065",
   "metadata": {},
   "outputs": [],
   "source": [
    "#Prep Data and scale down data so neural network able to work better with data\n",
    "scaler = MinMaxScaler(feature_range=(0,1))\n",
    "scaled_data= scaler.fit_transform(data['Close'].values.reshape(-1,1))\n",
    "\n",
    "prediction_days= 60\n",
    "\n",
    "x_train, y_train = [], []\n",
    "\n",
    "for x in range(prediction_days, len(scaled_data)):\n",
    "    x_train.append(scaled_data[x-prediction_days:x, 0])\n",
    "    y_train.append(scaled_data[x, 0])\n",
    "    \n",
    "x_train, y_train = np.array(x_train), np.array(y_train)\n",
    "x_train = np.reshape(x_train, (x_train.shape[0], x_train.shape[1], 1))"
   ]
  },
  {
   "cell_type": "code",
   "execution_count": 5,
   "id": "24c92d14-1b97-47e8-b678-343c97831980",
   "metadata": {},
   "outputs": [
    {
     "name": "stdout",
     "output_type": "stream",
     "text": [
      "Epoch 1/25\n"
     ]
    },
    {
     "name": "stderr",
     "output_type": "stream",
     "text": [
      "2022-10-18 18:23:29.514819: W tensorflow/core/platform/profile_utils/cpu_utils.cc:128] Failed to get CPU frequency: 0 Hz\n"
     ]
    },
    {
     "name": "stdout",
     "output_type": "stream",
     "text": [
      "42/42 [==============================] - 4s 48ms/step - loss: 0.0265\n",
      "Epoch 2/25\n",
      "42/42 [==============================] - 2s 48ms/step - loss: 0.0051\n",
      "Epoch 3/25\n",
      "42/42 [==============================] - 2s 54ms/step - loss: 0.0047\n",
      "Epoch 4/25\n",
      "42/42 [==============================] - 2s 55ms/step - loss: 0.0047\n",
      "Epoch 5/25\n",
      "42/42 [==============================] - 2s 54ms/step - loss: 0.0037\n",
      "Epoch 6/25\n",
      "42/42 [==============================] - 2s 55ms/step - loss: 0.0043\n",
      "Epoch 7/25\n",
      "42/42 [==============================] - 2s 55ms/step - loss: 0.0039\n",
      "Epoch 8/25\n",
      "42/42 [==============================] - 2s 55ms/step - loss: 0.0037\n",
      "Epoch 9/25\n",
      "42/42 [==============================] - 2s 55ms/step - loss: 0.0034\n",
      "Epoch 10/25\n",
      "42/42 [==============================] - 2s 55ms/step - loss: 0.0034\n",
      "Epoch 11/25\n",
      "42/42 [==============================] - 2s 55ms/step - loss: 0.0031\n",
      "Epoch 12/25\n",
      "42/42 [==============================] - 2s 55ms/step - loss: 0.0030\n",
      "Epoch 13/25\n",
      "42/42 [==============================] - 2s 55ms/step - loss: 0.0027\n",
      "Epoch 14/25\n",
      "42/42 [==============================] - 2s 55ms/step - loss: 0.0034\n",
      "Epoch 15/25\n",
      "42/42 [==============================] - 2s 55ms/step - loss: 0.0029\n",
      "Epoch 16/25\n",
      "42/42 [==============================] - 2s 55ms/step - loss: 0.0026\n",
      "Epoch 17/25\n",
      "42/42 [==============================] - 2s 55ms/step - loss: 0.0025\n",
      "Epoch 18/25\n",
      "42/42 [==============================] - 2s 55ms/step - loss: 0.0025\n",
      "Epoch 19/25\n",
      "42/42 [==============================] - 2s 55ms/step - loss: 0.0026\n",
      "Epoch 20/25\n",
      "42/42 [==============================] - 2s 55ms/step - loss: 0.0026\n",
      "Epoch 21/25\n",
      "42/42 [==============================] - 2s 56ms/step - loss: 0.0026\n",
      "Epoch 22/25\n",
      "42/42 [==============================] - 2s 55ms/step - loss: 0.0023\n",
      "Epoch 23/25\n",
      "42/42 [==============================] - 2s 55ms/step - loss: 0.0023\n",
      "Epoch 24/25\n",
      "42/42 [==============================] - 2s 55ms/step - loss: 0.0022\n",
      "Epoch 25/25\n",
      "42/42 [==============================] - 2s 55ms/step - loss: 0.0023\n"
     ]
    },
    {
     "data": {
      "text/plain": [
       "<keras.callbacks.History at 0x13fc00160>"
      ]
     },
     "execution_count": 5,
     "metadata": {},
     "output_type": "execute_result"
    }
   ],
   "source": [
    "#Neural Network Model \n",
    "model= Sequential()\n",
    "#LSTM layers, recurrent layers to memorize important info to feed data back to neural network, dropout layer to prevent overfitting\n",
    "model.add(LSTM(units=50, return_sequences=True, input_shape=(x_train.shape[1], 1)))\n",
    "model.add(Dropout(0.2))\n",
    "model.add(LSTM(units=50, return_sequences=True))\n",
    "model.add(Dropout(0.2))\n",
    "model.add(LSTM(units=50))\n",
    "model.add(Dropout(0.2))\n",
    "model.add(Dense(units=1))\n",
    "\n",
    "#compile model via .compile and train model via .fit \n",
    "model.compile(optimizer='adam', loss='mean_squared_error')\n",
    "model.fit(x_train, y_train, epochs=25, batch_size=32)"
   ]
  },
  {
   "cell_type": "code",
   "execution_count": 6,
   "id": "28121085-9e95-44be-ac6e-34b8c241414d",
   "metadata": {},
   "outputs": [
    {
     "name": "stdout",
     "output_type": "stream",
     "text": [
      "10/10 [==============================] - 1s 12ms/step\n"
     ]
    },
    {
     "data": {
      "image/png": "[encoded data removed]",
      "text/plain": [
       "<Figure size 640x480 with 1 Axes>"
      ]
     },
     "metadata": {},
     "output_type": "display_data"
    }
   ],
   "source": [
    "#test model\n",
    "test_start= dt.datetime(2022,1,1)\n",
    "test_end= dt.datetime.now()\n",
    "\n",
    "test_data= web.DataReader(f'{cryto}-{currency}', 'yahoo', test_start, test_end)\n",
    "actual_prices= test_data['Close'].values\n",
    "\n",
    "total_dataset= pd.concat((data['Close'], test_data['Close']), axis=0)\n",
    "\n",
    "model_inputs= total_dataset[len(total_dataset) - len(test_data) - prediction_days:].values\n",
    "model_inputs= model_inputs.reshape(-1,1)\n",
    "model_inputs= scaler.fit_transform(model_inputs)\n",
    "\n",
    "x_test= []\n",
    "for x in range(prediction_days, len(model_inputs)):\n",
    "    x_test.append(model_inputs[x-prediction_days:x, 0])\n",
    "\n",
    "x_test= np.array(x_test)\n",
    "x_test= np.reshape(x_test, (x_test.shape[0], x_test.shape[1], 1))\n",
    "\n",
    "#obtain prediction prices via .predict then inverse the prediction prices to obtain actual values\n",
    "prediction_prices= model.predict(x_test)\n",
    "prediction_prices= scaler.inverse_transform(prediction_prices)\n",
    "#plot via matplotlib \n",
    "plt.plot(actual_prices, color='blue', label='Actual Prices')\n",
    "plt.plot(prediction_prices, color='red', label='Predicted Prices')\n",
    "plt.title(f'{cryto} price prediction')\n",
    "plt.xlabel('Time')\n",
    "plt.ylabel('Price')\n",
    "plt.legend(loc='upper left')\n",
    "plt.show()\n",
    "\n"
   ]
  },
  {
   "cell_type": "code",
   "execution_count": 9,
   "id": "f03cf445-5f98-473f-9bd2-e1f13833fc88",
   "metadata": {},
   "outputs": [
    {
     "name": "stdout",
     "output_type": "stream",
     "text": [
      "1/1 [==============================] - 0s 23ms/step\n"
     ]
    },
    {
     "data": {
      "text/plain": [
       "array([[5.3105613e+09]], dtype=float32)"
      ]
     },
     "execution_count": 9,
     "metadata": {},
     "output_type": "execute_result"
    }
   ],
   "source": [
    "#predict next day \n",
    "real_data= [model_inputs[len(model_inputs) + 1 - prediction_days:len(model_inputs) + 1, 0]]\n",
    "real_data= np.array(real_data)\n",
    "real_data= np.reshape(real_data, (real_data.shape[0], real_data.shape[1], 1))\n",
    "\n",
    "prediction= model.predict(real_data)\n",
    "prediction= scaler.inverse_transform(prediction)\n",
    "prediction"
   ]
  },
  {
   "cell_type": "code",
   "execution_count": 17,
   "id": "60c39374-1dd7-4ae8-94da-b0775dab1d42",
   "metadata": {
    "tags": []
   },
   "outputs": [
    {
     "name": "stdout",
     "output_type": "stream",
     "text": [
      "10/10 [==============================] - 0s 12ms/step\n"
     ]
    }
   ],
   "source": [
    "#test model\n",
    "test_start= dt.datetime(2021,1,1)\n",
    "test_end= dt.datetime(2022,1,1)\n",
    "\n",
    "test_data= web.DataReader(f'{cryto}-{currency}', 'yahoo', test_start, test_end)\n",
    "actual_prices= test_data['Close'].values\n",
    "\n",
    "total_dataset= pd.concat((data['Close'], test_data['Close']), axis=0)\n",
    "\n",
    "model_inputs= test_data[len(test_data) - prediction_days:].values\n",
    "model_inputs= model_inputs.reshape(-1,1)\n",
    "model_inputs= scaler.fit_transform(model_inputs)\n",
    "\n",
    "x_test= []\n",
    "y_test = []\n",
    "for x in range(prediction_days, len(model_inputs)):\n",
    "    x_test.append(model_inputs[x-prediction_days:x, 0])\n",
    "    y_test.append(model_inputs[x, 0])\n",
    "\n",
    "\n",
    "x_test= np.array(x_test)\n",
    "x_test= np.reshape(x_test, (x_test.shape[0], x_test.shape[1], 1))\n",
    "\n",
    "prediction_prices= model.predict(x_test)"
   ]
  },
  {
   "cell_type": "code",
   "execution_count": 18,
   "id": "2f6fc22e-19f8-469f-bb26-08b69ee5bf2b",
   "metadata": {},
   "outputs": [],
   "source": [
    "real_prices = scaler.inverse_transform(np.array(y_test).reshape(1,-1))"
   ]
  },
  {
   "cell_type": "code",
   "execution_count": 19,
   "id": "318a7f11-18ee-4f0e-aaa1-99538929b5ae",
   "metadata": {
    "tags": []
   },
   "outputs": [],
   "source": [
    "predicted_prices_raw = scaler.inverse_transform(prediction_prices)"
   ]
  },
  {
   "cell_type": "code",
   "execution_count": null,
   "id": "0d9caa80-3ea8-4a39-91c5-a67adf86a072",
   "metadata": {},
   "outputs": [],
   "source": []
  },
  {
   "cell_type": "code",
   "execution_count": null,
   "id": "cc89fce8-a52c-4835-9e11-31f22acb3ca5",
   "metadata": {},
   "outputs": [],
   "source": []
  }
 ],
 "metadata": {
  "kernelspec": {
   "display_name": "tf",
   "language": "python",
   "name": "tf"
  },
  "language_info": {
   "codemirror_mode": {
    "name": "ipython",
    "version": 3
   },
   "file_extension": ".py",
   "mimetype": "text/x-python",
   "name": "python",
   "nbconvert_exporter": "python",
   "pygments_lexer": "ipython3",
   "version": "3.10.6"
  }
 },
 "nbformat": 4,
 "nbformat_minor": 5
}
