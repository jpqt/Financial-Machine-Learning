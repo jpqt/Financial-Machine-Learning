{
 "cells": [
  {
   "cell_type": "markdown",
   "id": "69d09eb5-6249-4ebf-8431-e4d6498bf58a",
   "metadata": {},
   "source": [
    "## Dollar Cost Averaging Crypto Bot\n",
    "\n",
    "## Technologies\n",
    "\n",
    "\n",
    "new test -db 2.32pm\n"
   ]
  },
  {
   "cell_type": "code",
   "execution_count": null,
   "id": "c22ae422-e54a-4a63-b93c-bb0989606f5c",
   "metadata": {},
   "outputs": [],
   "source": []
  }
 ],
 "metadata": {
  "kernelspec": {
   "display_name": "Python 3 (ipykernel)",
   "language": "python",
   "name": "python3"
  },
  "language_info": {
   "codemirror_mode": {
    "name": "ipython",
    "version": 3
   },
   "file_extension": ".py",
   "mimetype": "text/x-python",
   "name": "python",
   "nbconvert_exporter": "python",
   "pygments_lexer": "ipython3",
   "version": "3.7.13"
  }
 },
 "nbformat": 4,
 "nbformat_minor": 5
}
