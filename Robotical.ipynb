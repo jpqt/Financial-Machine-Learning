{
 "cells": [
  {
   "cell_type": "markdown",
   "id": "69d09eb5-6249-4ebf-8431-e4d6498bf58a",
   "metadata": {},
   "source": [
    "## Dollar Cost Averaging Crypto Bot\n",
    "\n",
    "## Technologies\n",
    "\n",
    "\n"
   ]
  }
 ],
 "metadata": {
  "kernelspec": {
   "display_name": "Python 3 (ipykernel)",
   "language": "python",
   "name": "python3"
  },
  "language_info": {
   "codemirror_mode": {
    "name": "ipython",
    "version": 3
   },
   "file_extension": ".py",
   "mimetype": "text/x-python",
   "name": "python",
   "nbconvert_exporter": "python",
   "pygments_lexer": "ipython3",
   "version": "3.9.12"
  }
 },
 "nbformat": 4,
 "nbformat_minor": 5
}
